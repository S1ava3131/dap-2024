{
 "cells": [
  {
   "cell_type": "markdown",
   "metadata": {},
   "source": [
    "# Лабораторная работа №2. Основы Python"
   ]
  },
  {
   "cell_type": "markdown",
   "metadata": {},
   "source": [
    "## Задание"
   ]
  },
  {
   "cell_type": "markdown",
   "metadata": {},
   "source": [
    "Выполните следующие задания:\n",
    "\n",
    "1. Открыл в файл в Google Colab (используйте собственный форк репозитория).\n",
    "2. Решил задачи.\n",
    "3. Сохранил результат в ваш репозиторий github в директорию ./les02\n",
    "4. Создал pull request в репозиторий https://github.com/chebotarevsa/dap-2024. Название pull request должно иметь формат \"<Номер лабораторной работы>  <Номер группы> <ФИО>\"\n",
    "5. Сдал работу в системе \"Пегас\", в отчет укажите ссылку на pull request"
   ]
  },
  {
   "cell_type": "markdown",
   "metadata": {},
   "source": [
    "Задача №1. https://leetcode.com/problems/two-sum/"
   ]
  },
  {
   "cell_type": "code",
   "execution_count": 1,
   "metadata": {},
   "outputs": [
    {
     "name": "stdout",
     "output_type": "stream",
     "text": [
      "1. Two Sum: [0, 1]\n"
     ]
    }
   ],
   "source": [
    "class Solution(object):\n",
    "    def twoSum(self, nums, target):\n",
    "        \"\"\"\n",
    "        :type nums: List[int]\n",
    "        :type target: int\n",
    "        :rtype: List[int]\n",
    "        \"\"\"\n",
    "        num_map = {}\n",
    "        for i, num in enumerate(nums):\n",
    "            complement = target - num\n",
    "            if complement in num_map:\n",
    "                return [num_map[complement], i]\n",
    "            num_map[num] = i\n",
    "        return []\n",
    "    \n",
    "sol1 = Solution()\n",
    "print(f\"1. Two Sum: {sol1.twoSum([2,7,11,15], 9)}\")"
   ]
  },
  {
   "cell_type": "markdown",
   "metadata": {},
   "source": [
    "Задача №2. https://leetcode.com/problems/palindrome-number/description/"
   ]
  },
  {
   "cell_type": "code",
   "execution_count": 2,
   "metadata": {},
   "outputs": [
    {
     "name": "stdout",
     "output_type": "stream",
     "text": [
      "2. Palindrome 121: True\n",
      "   Palindrome -121: False\n",
      "   Palindrome 10: False\n"
     ]
    }
   ],
   "source": [
    "class Solution2(object):\n",
    "    def isPalindrome(self, x):\n",
    "        if x < 0:\n",
    "            return False\n",
    "        original = x\n",
    "        reversed_num = 0\n",
    "        while x > 0:\n",
    "            digit = x % 10\n",
    "            reversed_num = reversed_num * 10 + digit\n",
    "            x = x // 10\n",
    "        return original == reversed_num\n",
    "    \n",
    "sol2 = Solution2()\n",
    "print(f\"2. Palindrome 121: {sol2.isPalindrome(121)}\")\n",
    "print(f\"   Palindrome -121: {sol2.isPalindrome(-121)}\")\n",
    "print(f\"   Palindrome 10: {sol2.isPalindrome(10)}\")"
   ]
  },
  {
   "cell_type": "markdown",
   "metadata": {},
   "source": [
    "Задача №3. https://leetcode.com/problems/roman-to-integer/description/"
   ]
  },
  {
   "cell_type": "code",
   "execution_count": null,
   "metadata": {},
   "outputs": [
    {
     "name": "stdout",
     "output_type": "stream",
     "text": [
      "3. Roman to Int: 1994\n"
     ]
    }
   ],
   "source": [
    "class Solution(object):\n",
    "    def romanToInt(self, s):\n",
    "        \"\"\"\n",
    "        :type s: str\n",
    "        :rtype: int\n",
    "        \"\"\"\n",
    "        roman_values = {\n",
    "            'I': 1, 'V': 5, 'X': 10, 'L': 50,\n",
    "            'C': 100, 'D': 500, 'M': 1000\n",
    "        }\n",
    "        \n",
    "        total = 0\n",
    "        prev_value = 0\n",
    "        \n",
    "        for char in reversed(s):\n",
    "            current_value = roman_values[char]\n",
    "            if current_value < prev_value:\n",
    "                total -= current_value\n",
    "            else:\n",
    "                total += current_value\n",
    "            prev_value = current_value\n",
    "            \n",
    "        return total\n",
    "    \n",
    "\n",
    "sol3 = Solution()\n",
    "print(f\"3. Roman to Int: {sol3.romanToInt('MCMXCIV')}\")\n"
   ]
  },
  {
   "cell_type": "markdown",
   "metadata": {},
   "source": [
    "Задача №4. https://leetcode.com/problems/longest-common-prefix/description/"
   ]
  },
  {
   "cell_type": "code",
   "execution_count": null,
   "metadata": {},
   "outputs": [
    {
     "name": "stdout",
     "output_type": "stream",
     "text": [
      "4. Common Prefix: 'fl'\n"
     ]
    }
   ],
   "source": [
    "class Solution(object):\n",
    "    def longestCommonPrefix(self, strs):\n",
    "        \"\"\"\n",
    "        :type strs: List[str]\n",
    "        :rtype: str\n",
    "        \"\"\"\n",
    "        if not strs:\n",
    "            return \"\"\n",
    "        \n",
    "        prefix = strs[0]\n",
    "        \n",
    "        for string in strs[1:]:\n",
    "            while not string.startswith(prefix):\n",
    "                prefix = prefix[:-1]\n",
    "                if not prefix:\n",
    "                    return \"\"\n",
    "        \n",
    "        return prefix\n",
    "    \n",
    "    \n",
    "sol4 = Solution()\n",
    "print(f\"4. Common Prefix: '{sol4.longestCommonPrefix(['flower','flow','flight'])}'\")\n"
   ]
  },
  {
   "cell_type": "markdown",
   "metadata": {},
   "source": [
    "Задача №5. https://leetcode.com/problems/merge-two-sorted-lists/description/"
   ]
  },
  {
   "cell_type": "code",
   "execution_count": null,
   "metadata": {},
   "outputs": [
    {
     "name": "stdout",
     "output_type": "stream",
     "text": [
      "5. Merge Lists: [1, 1, 2, 3, 4, 4]\n"
     ]
    }
   ],
   "source": [
    "class ListNode(object):\n",
    "    def __init__(self, val=0, next=None):\n",
    "        self.val = val\n",
    "        self.next = next\n",
    "\n",
    "class Solution(object):\n",
    "    def mergeTwoLists(self, list1, list2):\n",
    "        dummy = ListNode()\n",
    "        current = dummy\n",
    "        \n",
    "        while list1 and list2:\n",
    "            if list1.val <= list2.val:\n",
    "                current.next = list1\n",
    "                list1 = list1.next\n",
    "            else:\n",
    "                current.next = list2\n",
    "                list2 = list2.next\n",
    "            current = current.next\n",
    "            \n",
    "        current.next = list1 if list1 else list2\n",
    "        return dummy.next\n",
    "\n",
    "# Вспомогательные функции\n",
    "def list_to_linkedlist(lst):\n",
    "    dummy = ListNode()\n",
    "    current = dummy\n",
    "    for val in lst:\n",
    "        current.next = ListNode(val)\n",
    "        current = current.next\n",
    "    return dummy.next\n",
    "\n",
    "def linkedlist_to_list(head):\n",
    "    result = []\n",
    "    while head:\n",
    "        result.append(head.val)\n",
    "        head = head.next\n",
    "    return result\n",
    "\n",
    "# Тестирование\n",
    "sol5 = Solution()\n",
    "list1 = list_to_linkedlist([1,2,4])\n",
    "list2 = list_to_linkedlist([1,3,4])\n",
    "merged = sol5.mergeTwoLists(list1, list2)\n",
    "result5 = linkedlist_to_list(merged)\n",
    "print(f\"5. Merge Lists: {result5}\")\n"
   ]
  },
  {
   "cell_type": "markdown",
   "metadata": {},
   "source": [
    "Задача №6. https://leetcode.com/problems/longest-substring-without-repeating-characters/description/"
   ]
  },
  {
   "cell_type": "code",
   "execution_count": null,
   "metadata": {},
   "outputs": [
    {
     "name": "stdout",
     "output_type": "stream",
     "text": [
      "6. Longest Substring: 8\n"
     ]
    }
   ],
   "source": [
    "class Solution(object):\n",
    "    def lengthOfLongestSubstring(self, s):\n",
    "        \"\"\"\n",
    "        :type s: str\n",
    "        :rtype: int\n",
    "        \"\"\"\n",
    "        char_set = set()\n",
    "        left = 0\n",
    "        max_length = 0\n",
    "        \n",
    "        for right in range(len(s)):\n",
    "            while s[right] in char_set:\n",
    "                char_set.remove(s[left])\n",
    "                left += 1\n",
    "            char_set.add(s[right])\n",
    "            max_length = max(max_length, right - left + 1)\n",
    "        \n",
    "        return max_length\n",
    "    \n",
    "    \n",
    "sol6 = Solution()\n",
    "print(f\"6. Longest Substring: {sol6.lengthOfLongestSubstring('abcacdwrthg')}\")\n",
    "    "
   ]
  },
  {
   "cell_type": "markdown",
   "metadata": {},
   "source": [
    "## Вопросы\n",
    "\n",
    "1. Что такое динамическая типизация и чем она отличается от статической?\n",
    "\n",
    "   Динамическая типизация означает, что типы переменных определяются во время выполнения программы, а не во время компиляции. В Python можно присвоить переменной значение любого типа без предварительного объявления.\n",
    "\n",
    "2. Чем отличается цикл for в Python от цикла for в С++?\n",
    "\n",
    "  В Python for используется для итерации по элементам коллекции (for item in collection),\n",
    "   а в C++ - для итерации по индексам (for(int i=0; i<n; i++)).\n",
    "\n",
    "3. Для чего предназначены операторы continue и break?\n",
    "\n",
    "    break - немедленный выход из цикла, \n",
    "\n",
    "    continue - переход к следующей итерации цикла.\n",
    "\n",
    "4. Как определить функцию в python? Может ли функция возвращать несколько значений?\n",
    "\n",
    "  def function_name(params):. Да, может возвращать несколько значений через кортеж.\n",
    "\n",
    "5. Что такое лямбда функции и для чего они предназначены?\n",
    "\n",
    "    Анонимные функции: lambda x: x**2. Используются для коротких операций.\n",
    "\n",
    "6. Может ли тело функции содержать определение другой функции?\n",
    "\n",
    "   Да, это называется вложенной функцией.\n",
    "\n",
    "7. Как определить класс в python? Для чего нужна переменная self?\n",
    "\n",
    "    class MyClass:. self ссылается на экземпляр класса.\n",
    "\n",
    "8. Как определить приватный метод? Можно ли вызвать приватный метод за пределами класса?\n",
    "\n",
    "   def __private_method(self):. Технически можно, но не рекомендуется.\n",
    "\n",
    "9. Как определить статический метод класса? Для чего может понадобиться статический метод?\n",
    "\n",
    "    @staticmethod. Для методов, не требующих доступа к экземпляру или классу.\n",
    "\n",
    "10. Чем staticmethod отличается от classmethod?\n",
    "\n",
    "     staticmethod не получает неявных аргументов, classmethod получает класс как первый аргумент.\n",
    "\n",
    "11. Как определить собственный класс исключений Python? Как выбросить и перехватить исключение?\n",
    "\n",
    "      class MyException(Exception):. raise MyException(), except MyException as e:\n",
    "\n",
    "12. Что такое картеж, для чего он используется?\n",
    "\n",
    "      Кортеж - неизменяемая последовательность. Используется для группировки данных.\n"
   ]
  }
 ],
 "metadata": {
  "kernelspec": {
   "display_name": "Python 3",
   "language": "python",
   "name": "python3"
  },
  "language_info": {
   "codemirror_mode": {
    "name": "ipython",
    "version": 3
   },
   "file_extension": ".py",
   "mimetype": "text/x-python",
   "name": "python",
   "nbconvert_exporter": "python",
   "pygments_lexer": "ipython3",
   "version": "3.12.10"
  }
 },
 "nbformat": 4,
 "nbformat_minor": 2
}
