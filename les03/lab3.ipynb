{
 "cells": [
  {
   "cell_type": "markdown",
   "metadata": {
    "id": "qQvfD-M40xIt"
   },
   "source": [
    "# Лабораторная работа №3. NumPy"
   ]
  },
  {
   "cell_type": "markdown",
   "metadata": {},
   "source": [
    "## Задание"
   ]
  },
  {
   "cell_type": "markdown",
   "metadata": {
    "id": "Q8FFEA2R08uS"
   },
   "source": [
    "Выполните следующие задания:\n",
    "\n",
    "1. Откройл в файл в Google Colab (используйте собственный форк репозитория).\n",
    "2. Решил задачи.\n",
    "3. Сохранил результат в ваш репозиторий github в директорию ./les03\n",
    "4. Создал pull request в репозиторий https://github.com/chebotarevsa/dap-2024. Название pull request должно иметь формат \"<Номер лабораторной работы>  <Номер группы> <ФИО>\"\n",
    "5. Сдайл работу в системе \"Пегас\", в отчет укажите ссылку на pull request"
   ]
  },
  {
   "cell_type": "code",
   "execution_count": null,
   "metadata": {
    "colab": {
     "base_uri": "https://localhost:8080/",
     "height": 35
    },
    "executionInfo": {
     "elapsed": 4,
     "status": "ok",
     "timestamp": 1723840402460,
     "user": {
      "displayName": "Сергей Чеботарев",
      "userId": "02628885288665899660"
     },
     "user_tz": -180
    },
    "id": "3ftbuMN45IlN",
    "outputId": "a202a579-7cba-405d-995b-9387cd4738a1"
   },
   "outputs": [
    {
     "data": {
      "text/plain": [
       "'2.1.0'"
      ]
     },
     "execution_count": 1,
     "metadata": {},
     "output_type": "execute_result"
    }
   ],
   "source": [
    "import numpy as np\n",
    "np.version.version"
   ]
  },
  {
   "cell_type": "markdown",
   "metadata": {
    "id": "6iPL4gTu2ECp"
   },
   "source": [
    "1. Создать массив 10x10 со случайными значениями, найти минимум и максимум (низкая)"
   ]
  },
  {
   "cell_type": "code",
   "execution_count": null,
   "metadata": {
    "id": "v-AutHvo2T-D"
   },
   "outputs": [
    {
     "name": "stdout",
     "output_type": "stream",
     "text": [
      "NumPy version: 2.1.0\n",
      "\n",
      "1. Массив 10x10:\n",
      "Минимум: 0.028939958587378523, Максимум: 0.97991083782174\n",
      "Форма массива: (10, 10)\n"
     ]
    }
   ],
   "source": [
    "import numpy as np\n",
    "\n",
    "print(f\"NumPy version: {np.__version__}\")\n",
    "\n",
    "print(\"\\n1. Массив 10x10:\")\n",
    "arr_10x10 = np.random.random((10, 10))\n",
    "print(f\"Минимум: {arr_10x10.min()}, Максимум: {arr_10x10.max()}\")\n",
    "print(f\"Форма массива: {arr_10x10.shape}\")\n",
    "\n"
   ]
  },
  {
   "cell_type": "markdown",
   "metadata": {
    "id": "cwxKoGik2Xfd"
   },
   "source": [
    "2. Создать 8x8 матрицу и заполнить её единицами и нулями в шахматном порядке"
   ]
  },
  {
   "cell_type": "code",
   "execution_count": null,
   "metadata": {
    "id": "zACAjKWC2lBy"
   },
   "outputs": [
    {
     "name": "stdout",
     "output_type": "stream",
     "text": [
      "NumPy version: 2.1.0\n",
      "\n",
      "2. Шахматная доска 8x8:\n",
      "[[0 1 0 1 0 1 0 1]\n",
      " [1 0 1 0 1 0 1 0]\n",
      " [0 1 0 1 0 1 0 1]\n",
      " [1 0 1 0 1 0 1 0]\n",
      " [0 1 0 1 0 1 0 1]\n",
      " [1 0 1 0 1 0 1 0]\n",
      " [0 1 0 1 0 1 0 1]\n",
      " [1 0 1 0 1 0 1 0]]\n"
     ]
    }
   ],
   "source": [
    "import numpy as np\n",
    "print(f\"NumPy version: {np.__version__}\")\n",
    "print(\"\\n2. Шахматная доска 8x8:\")\n",
    "chess = np.zeros((8, 8), dtype=int)\n",
    "chess[1::2, ::2] = 1\n",
    "chess[::2, 1::2] = 1\n",
    "print(chess)"
   ]
  },
  {
   "cell_type": "markdown",
   "metadata": {
    "id": "YvNFm7Io2tSA"
   },
   "source": [
    "3. Дан массив из 11 элементов, поменять знак у элементов, значения которых между 3 и 8"
   ]
  },
  {
   "cell_type": "code",
   "execution_count": null,
   "metadata": {
    "id": "cczoe3OY27fA"
   },
   "outputs": [
    {
     "name": "stdout",
     "output_type": "stream",
     "text": [
      "NumPy version: 2.1.0\n",
      "\n",
      "3. Смена знака:\n",
      "До: [ 0  1  2  3  4  5  6  7  8  9 10]\n",
      "После: [ 0  1  2  3 -4 -5 -6 -7  8  9 10]\n"
     ]
    }
   ],
   "source": [
    "import numpy as np\n",
    "print(f\"NumPy version: {np.__version__}\")\n",
    "print(\"\\n3. Смена знака:\")\n",
    "z = np.arange(11)\n",
    "print(f\"До: {z}\")\n",
    "z[(z > 3) & (z < 8)] *= -1\n",
    "print(f\"После: {z}\")"
   ]
  },
  {
   "cell_type": "markdown",
   "metadata": {
    "id": "tInYHRPf2-jQ"
   },
   "source": [
    "4. Найти среднее заначение строки матрицы и вычесть его из каждого елемента строки"
   ]
  },
  {
   "cell_type": "code",
   "execution_count": null,
   "metadata": {
    "id": "Zbv_WG9w3km1"
   },
   "outputs": [
    {
     "name": "stdout",
     "output_type": "stream",
     "text": [
      "NumPy version: 2.1.0\n",
      "\n",
      "4. Вычитание среднего:\n",
      "До:\n",
      "[[0.35270555 0.80175545 0.67329735 0.37294049 0.94266197 0.02347373\n",
      "  0.01615972 0.48365419 0.93003458 0.49668612]\n",
      " [0.48476133 0.96493986 0.08381381 0.06626379 0.72237287 0.86058914\n",
      "  0.03766845 0.34398475 0.53803788 0.18702702]\n",
      " [0.31061945 0.88771126 0.78320568 0.51767971 0.39655933 0.0846959\n",
      "  0.10873746 0.60877731 0.7417407  0.28050856]\n",
      " [0.57339857 0.93321884 0.46309986 0.36935238 0.90061422 0.83268064\n",
      "  0.5627575  0.82017042 0.31358276 0.50838671]\n",
      " [0.03661949 0.10790014 0.46624755 0.74346318 0.0419106  0.01889679\n",
      "  0.88958356 0.26637529 0.92713713 0.99991602]]\n",
      "После:\n",
      "[[-0.15663137  0.29241853  0.16396043 -0.13639642  0.43332506 -0.48586319\n",
      "  -0.49317719 -0.02568272  0.42069767 -0.01265079]\n",
      " [ 0.05581544  0.53599397 -0.34513208 -0.36268211  0.29342698  0.43164325\n",
      "  -0.39127744 -0.08496114  0.10909199 -0.24191887]\n",
      " [-0.16140409  0.41568772  0.31118214  0.04565617 -0.0754642  -0.38732763\n",
      "  -0.36328607  0.13675378  0.26971716 -0.19151497]\n",
      " [-0.05432762  0.30549265 -0.16462633 -0.25837382  0.27288803  0.20495445\n",
      "  -0.06496869  0.19244423 -0.31414343 -0.11933948]\n",
      " [-0.41318549 -0.34190484  0.01644257  0.29365821 -0.40789437 -0.43090818\n",
      "   0.43977858 -0.18342969  0.47733216  0.55011105]]\n"
     ]
    }
   ],
   "source": [
    "import numpy as np\n",
    "print(f\"NumPy version: {np.__version__}\")\n",
    "\n",
    "print(\"\\n4. Вычитание среднего:\")\n",
    "z = np.random.rand(5, 10)\n",
    "print(f\"До:\\n{z}\")\n",
    "z_centered = z - z.mean(axis=1, keepdims=True)\n",
    "print(f\"После:\\n{z_centered}\")"
   ]
  },
  {
   "cell_type": "markdown",
   "metadata": {
    "id": "OStor4mW3lpJ"
   },
   "source": [
    "5. Поменяйте 1 и 2 строки матрицы"
   ]
  },
  {
   "cell_type": "code",
   "execution_count": null,
   "metadata": {
    "id": "5vfeHqyF3qKd"
   },
   "outputs": [
    {
     "name": "stdout",
     "output_type": "stream",
     "text": [
      "NumPy version: 2.1.0\n",
      "Исходная матрица:\n",
      "[[ 0  1  2  3  4]\n",
      " [ 5  6  7  8  9]\n",
      " [10 11 12 13 14]\n",
      " [15 16 17 18 19]\n",
      " [20 21 22 23 24]]\n",
      "После замены строк:\n",
      "[[ 5  6  7  8  9]\n",
      " [ 0  1  2  3  4]\n",
      " [10 11 12 13 14]\n",
      " [15 16 17 18 19]\n",
      " [20 21 22 23 24]]\n"
     ]
    }
   ],
   "source": [
    "import numpy as np\n",
    "print(f\"NumPy version: {np.__version__}\")\n",
    "z = np.arange(25).reshape(5,5)\n",
    "print(f\"Исходная матрица:\\n{z}\")\n",
    "z[[0, 1]] = z[[1, 0]]\n",
    "print(f\"После замены строк:\\n{z}\")"
   ]
  },
  {
   "cell_type": "markdown",
   "metadata": {
    "id": "IPQ9xIIk3qml"
   },
   "source": [
    "6. Дан массив 10x2 подеставлющий собой точки в декартовой системе координат, преобразовать в полярную"
   ]
  },
  {
   "cell_type": "code",
   "execution_count": 31,
   "metadata": {
    "id": "zGHBaX8b30Uv"
   },
   "outputs": [
    {
     "name": "stdout",
     "output_type": "stream",
     "text": [
      "NumPy version: 2.1.0\n",
      "Декартовы координаты:\n",
      "[[0.64196895 0.75849728]\n",
      " [0.21735221 0.47166485]\n",
      " [0.26785517 0.8031406 ]\n",
      " [0.95760673 0.0856174 ]\n",
      " [0.94356584 0.89378061]\n",
      " [0.50441831 0.14187263]\n",
      " [0.20870689 0.06144158]\n",
      " [0.53312597 0.43700012]\n",
      " [0.95881642 0.99325096]\n",
      " [0.41818942 0.69855619]]\n",
      "Полярные координаты:\n",
      "[[0.99370129 0.86841375]\n",
      " [0.51933584 1.13898168]\n",
      " [0.84662933 1.24888706]\n",
      " [0.96142654 0.08917058]\n",
      " [1.29967699 0.75830853]\n",
      " [0.52399015 0.27417661]\n",
      " [0.21756295 0.28630368]\n",
      " [0.68934201 0.68663461]\n",
      " [1.38053482 0.80303637]\n",
      " [0.81416407 1.03137137]]\n"
     ]
    }
   ],
   "source": [
    "import numpy as np\n",
    "print(f\"NumPy version: {np.__version__}\")\n",
    "z = np.random.random((10,2))\n",
    "print(f\"Декартовы координаты:\\n{z}\")\n",
    "x, y = z[:, 0], z[:, 1]\n",
    "r = np.sqrt(x**2 + y**2)\n",
    "theta = np.arctan2(y, x)\n",
    "polar_coords = np.column_stack((r, theta))\n",
    "print(f\"Полярные координаты:\\n{polar_coords}\")"
   ]
  },
  {
   "cell_type": "markdown",
   "metadata": {
    "id": "10gbuTgE4AOH"
   },
   "source": [
    "7. Заменить максимальный элемент массива на ноль"
   ]
  },
  {
   "cell_type": "code",
   "execution_count": null,
   "metadata": {
    "id": "gqwuO2T_5Aqd"
   },
   "outputs": [
    {
     "name": "stdout",
     "output_type": "stream",
     "text": [
      "NumPy version: 2.1.0\n",
      "Исходный массив: [0.23593819 0.14868341 0.53956999 0.75237997 0.29165263 0.89974621\n",
      " 0.83616898 0.47071464 0.41893166 0.69615154]\n",
      "После замены: [0.23593819 0.14868341 0.53956999 0.75237997 0.29165263 0.\n",
      " 0.83616898 0.47071464 0.41893166 0.69615154]\n"
     ]
    }
   ],
   "source": [
    "import numpy as np\n",
    "print(f\"NumPy version: {np.__version__}\")\n",
    "z = np.random.random(10)\n",
    "print(f\"Исходный массив: {z}\")\n",
    "z[z.argmax()] = 0\n",
    "print(f\"После замены: {z}\")"
   ]
  },
  {
   "cell_type": "markdown",
   "metadata": {
    "id": "88m_eWXM6nZY"
   },
   "source": [
    "8. Дан массив, добавить 1 к каждому элементу с индексом, заданным в другом массиве. Добавление производиться только 1 раз"
   ]
  },
  {
   "cell_type": "code",
   "execution_count": 30,
   "metadata": {},
   "outputs": [
    {
     "name": "stdout",
     "output_type": "stream",
     "text": [
      "NumPy version: 2.1.0\n",
      "Исходный массив: [1. 1. 1. 1. 1. 1. 1. 1. 1. 1.]\n",
      "Индексы: [6 9 8 3 0 4 0 2 2 0 6 6 7 8 2 2 3 4 5 4]\n",
      "После добавления: [4. 1. 5. 3. 4. 2. 4. 2. 3. 2.]\n"
     ]
    }
   ],
   "source": [
    "import numpy as np\n",
    "print(f\"NumPy version: {np.__version__}\")\n",
    "z = np.ones(10)\n",
    "i = np.random.randint(0, len(z), 20)\n",
    "print(f\"Исходный массив: {z}\")\n",
    "print(f\"Индексы: {i}\")\n",
    "np.add.at(z, i, 1)\n",
    "print(f\"После добавления: {z}\")"
   ]
  },
  {
   "cell_type": "markdown",
   "metadata": {
    "id": "0HByAVK77JCG"
   },
   "source": [
    "9. Дан вектор [1, 2, 3, 4, 5], построить новый вектор с тремя нулями между каждым значением"
   ]
  },
  {
   "cell_type": "code",
   "execution_count": 29,
   "metadata": {
    "id": "2AiZt-J47dqq"
   },
   "outputs": [
    {
     "name": "stdout",
     "output_type": "stream",
     "text": [
      "NumPy version: 2.1.0\n",
      "Исходный вектор: [1 2 3 4 5]\n",
      "Результат: [1. 0. 0. 0. 2. 0. 0. 0. 3. 0. 0. 0. 4. 0. 0. 0. 5.]\n"
     ]
    }
   ],
   "source": [
    "import numpy as np\n",
    "print(f\"NumPy version: {np.__version__}\")\n",
    "z = np.array([1,2,3,4,5])\n",
    "result = np.zeros(len(z) + (len(z)-1)*3)\n",
    "result[::4] = z\n",
    "print(f\"Исходный вектор: {z}\")\n",
    "print(f\"Результат: {result}\")"
   ]
  },
  {
   "cell_type": "markdown",
   "metadata": {
    "id": "i0uK-dO08AKP"
   },
   "source": [
    "10. Найти ближайшее к заданному значению число в заданном массиве"
   ]
  },
  {
   "cell_type": "code",
   "execution_count": 28,
   "metadata": {
    "id": "sE0DlZO_-4Cb"
   },
   "outputs": [
    {
     "name": "stdout",
     "output_type": "stream",
     "text": [
      "NumPy version: 2.1.0\n",
      "Массив: 0-99, Искомое значение: 23.81\n",
      "Ближайшее число: 24\n"
     ]
    }
   ],
   "source": [
    "import numpy as np\n",
    "print(f\"NumPy version: {np.__version__}\")\n",
    "z = np.arange(100) # Число\n",
    "v = np.random.uniform(0,100) # Массив\n",
    "idx = (np.abs(z - v)).argmin()\n",
    "nearest = z[idx]\n",
    "print(f\"Массив: 0-99, Искомое значение: {v:.2f}\")\n",
    "print(f\"Ближайшее число: {nearest}\")"
   ]
  },
  {
   "cell_type": "markdown",
   "metadata": {
    "id": "0zUpsgh8uCfQ"
   },
   "source": [
    "## Вопросы\n",
    "\n",
    "\n"
   ]
  },
  {
   "cell_type": "markdown",
   "metadata": {
    "id": "RQEMkoq5vc3k"
   },
   "source": [
    "**1**. Какой тип (dtype) будут иметь элементы массива?\n",
    "``` python\n",
    "np.array([1, 4, 2, 5, 3])\n",
    "np.array([1., 4, 2, 5, 3])\n",
    "np.array([1, 4, 2, 5, 3], dtype='float128')\n",
    "np.array([1., 4, 2, 5, 3], dtype='complex128')\n",
    "np.array([1, 4, 2, 5, 3], dtype ='float64')\n",
    "np.array([1, 4, 2, 5, 3], dtype =int64)\n",
    "np.array([1, 4, 2, 5, 3], dtype='bool')\n",
    "np.array([1, 4, 2, 5, 3], dtype='str')\n",
    "np.array([1, 4, 2, 5, '3'])\n",
    "np.array([1, -4, 2, 0, 1j])\n",
    "```"
   ]
  },
  {
   "cell_type": "code",
   "execution_count": 27,
   "metadata": {},
   "outputs": [
    {
     "name": "stdout",
     "output_type": "stream",
     "text": [
      "1. int64\n",
      "2. float64\n",
      "3. float64\n",
      "4. complex128\n",
      "5. float64\n",
      "6. Ошибка: name 'int64' is not defined\n",
      "7. bool\n",
      "   Значения: [ True  True  True  True  True]\n",
      "8. <U1\n",
      "9. <U21\n",
      "10. complex128\n"
     ]
    }
   ],
   "source": [
    "import numpy as np\n",
    "\n",
    "# 1. Целочисленный массив\n",
    "arr1 = np.array([1, 4, 2, 5, 3])\n",
    "print(\"1.\", arr1.dtype)  # dtype('int64')\n",
    "\n",
    "# 2. Вещественный массив (из-за 1.)\n",
    "arr2 = np.array([1., 4, 2, 5, 3])\n",
    "print(\"2.\", arr2.dtype)  # dtype('float64')\n",
    "\n",
    "# 3. Вещественный с повышенной точностью\n",
    "arr3 = np.array([1, 4, 2, 5, 3], dtype='float64')\n",
    "print(\"3.\", arr3.dtype)  # dtype('float64')\n",
    "\n",
    "# 4. Комплексные числа\n",
    "arr4 = np.array([1., 4, 2, 5, 3], dtype='complex128')\n",
    "print(\"4.\", arr4.dtype)  # dtype('complex128')\n",
    "\n",
    "# 5. Явное указание float64\n",
    "arr5 = np.array([1, 4, 2, 5, 3], dtype='float64')\n",
    "print(\"5.\", arr5.dtype)  # dtype('float64')\n",
    "\n",
    "# 6. ОШИБКА - нет кавычек\n",
    "try:\n",
    "    arr6 = np.array([1, 4, 2, 5, 3], dtype=int64)\n",
    "    print(\"6.\", arr6.dtype)\n",
    "except NameError as e:\n",
    "    print(\"6. Ошибка:\", e)  # NameError: name 'int64' is not defined\n",
    "\n",
    "# 7. Булев тип\n",
    "arr7 = np.array([1, 4, 2, 5, 3], dtype='bool')\n",
    "print(\"7.\", arr7.dtype)  # dtype('bool')\n",
    "print(\"   Значения:\", arr7)  # [True True True True True]\n",
    "\n",
    "# 8. Строковый тип\n",
    "arr8 = np.array([1, 4, 2, 5, 3], dtype='str')\n",
    "print(\"8.\", arr8.dtype)  # dtype('<U1')\n",
    "\n",
    "# 9. Автоматическое приведение к строке\n",
    "arr9 = np.array([1, 4, 2, 5, '3'])\n",
    "print(\"9.\", arr9.dtype)  # dtype('<U1')\n",
    "\n",
    "# 10. Комплексные числа\n",
    "arr10 = np.array([1, -4, 2, 0, 1j])\n",
    "print(\"10.\", arr10.dtype)  # dtype('complex128')"
   ]
  },
  {
   "cell_type": "markdown",
   "metadata": {
    "id": "SlJfe4Bgvd16"
   },
   "source": [
    "**2**. Что будет выведено в консоль и почему?\n",
    "``` python\n",
    "np.array([1, 4, 2, 5, 3], dtype='str')[1] + '1'\n",
    "np.array([1, -4, 2, 0, 3], dtype='bool')[3] or np.array([1, -4, 2, 0, 3])[1]\n",
    "np.array([1, -4, 2, 0, 3], dtype='bool')[3] and np.array([1, -4, 2, 0, 3])[1]\n",
    "np.array([1, -4, 2, 0, True], dtype='int64')[-1]\n",
    "np.array([1, -4, 2, 0, 1j], dtype='int64')[1]\n",
    "np.array([1, -4, 2, 0, 1j], dtype='str')[-1]\n",
    "np.array([1, 4, 2, 5, '3'])[-1] * 3\n",
    "```"
   ]
  },
  {
   "cell_type": "code",
   "execution_count": 17,
   "metadata": {},
   "outputs": [
    {
     "data": {
      "text/plain": [
       "'333'"
      ]
     },
     "execution_count": 17,
     "metadata": {},
     "output_type": "execute_result"
    }
   ],
   "source": [
    "import numpy as np\n",
    "\n",
    "# 1. Конкатенация строк\n",
    "np.array([1, 4, 2, 5, 3], dtype='str')[1] + '1'  # '41'\n",
    "\n",
    "# 2. Логическое ИЛИ\n",
    "np.array([1, -4, 2, 0, 3], dtype='bool')[3] or np.array([1, -4, 2, 0, 3])[1]  # -4\n",
    "\n",
    "# 3. Логическое И\n",
    "np.array([1, -4, 2, 0, 3], dtype='bool')[3] and np.array([1, -4, 2, 0, 3])[1]  # False\n",
    "\n",
    "# 4. Преобразование bool в int\n",
    "np.array([1, -4, 2, 0, True], dtype='int64')[-1]  # 1\n",
    "\n",
    "# 5. ОШИБКА - нельзя комплексное в int\n",
    "# np.array([1, -4, 2, 0, 1j], dtype='int64')[1]  # TypeError\n",
    "\n",
    "# 6. Комплексное число в строку\n",
    "np.array([1, -4, 2, 0, 1j], dtype='str')[-1]  # '1j'\n",
    "\n",
    "# 7. Повторение строки\n",
    "np.array([1, 4, 2, 5, '3'])[-1] * 3  # '333'"
   ]
  },
  {
   "cell_type": "markdown",
   "metadata": {
    "id": "X50PESx7xVAc"
   },
   "source": [
    "**3**. Каков результат операции?\n",
    "\n",
    "``` python\n",
    "np.ones((3, 5), dtype=float)\n",
    "np.full((3, 5), 3.14)\n",
    "np.linspace(0, 1, 5)\n",
    "np.diag((1,3,5))\n",
    "np.smile((1,3,5)) \n",
    "np.random.random((3, 3))\n",
    "np.eye(3)\n",
    "np.empty(3)\n",
    "```\n",
    "\n"
   ]
  },
  {
   "cell_type": "code",
   "execution_count": 18,
   "metadata": {},
   "outputs": [
    {
     "data": {
      "text/plain": [
       "array([4.9e-324, 1.5e-323, 2.5e-323])"
      ]
     },
     "execution_count": 18,
     "metadata": {},
     "output_type": "execute_result"
    }
   ],
   "source": [
    "# 1. Массив из единиц\n",
    "np.ones((3, 5), dtype=float)  # 3x5 массив с 1.0\n",
    "\n",
    "# 2. Заполнение константой\n",
    "np.full((3, 5), 3.14)  # 3x5 массив с 3.14\n",
    "\n",
    "# 3. Линейное пространство\n",
    "np.linspace(0, 1, 5)  # [0., 0.25, 0.5, 0.75, 1.]\n",
    "\n",
    "# 4. Диагональная матрица\n",
    "np.diag((1,3,5))  # [[1,0,0], [0,3,0], [0,0,5]]\n",
    "\n",
    "# 5. ОШИБКА - нет такой функции\n",
    "# np.smile((1,3,5))  # AttributeError\n",
    "\n",
    "# 6. Случайные числа\n",
    "np.random.random((3, 3))  # 3x3 массив случайных чисел [0,1)\n",
    "\n",
    "# 7. Единичная матрица\n",
    "np.eye(3)  # [[1,0,0], [0,1,0], [0,0,1]]\n",
    "\n",
    "# 8. Неинициализированный массив\n",
    "np.empty(3)  # 3 элемента со случайными значениями"
   ]
  },
  {
   "cell_type": "markdown",
   "metadata": {
    "id": "D6Bt-8cfAWrA"
   },
   "source": [
    "**4**. Дан двумерный массив X, что будет выведено в консоль?\n",
    "\n",
    "``` python\n",
    "X = np.array([[3, 5, 2, 4],\n",
    "      [7, 6, 8, 8],\n",
    "      [1, 6, 7, 7]])\n",
    "```\n",
    "\n",
    "``` python\n",
    "X[0,0]\n",
    "X[-1,-1]\n",
    "X[0:1,-1]\n",
    "X[0:2,-1]\n",
    "X[0:2,0:2]\n",
    "X[1,1:3]\n",
    "X[1,:]\n",
    "X[1,:]\n",
    "X[:,:]\n",
    "X[:]\n",
    "X[::2,::2]\n",
    "X[0:3:2,0:3:2]\n",
    "X[::-1,::-1]\n",
    "```"
   ]
  },
  {
   "cell_type": "code",
   "execution_count": 19,
   "metadata": {},
   "outputs": [
    {
     "data": {
      "text/plain": [
       "array([[7, 7, 6, 1],\n",
       "       [8, 8, 6, 7],\n",
       "       [4, 2, 5, 3]])"
      ]
     },
     "execution_count": 19,
     "metadata": {},
     "output_type": "execute_result"
    }
   ],
   "source": [
    "X = np.array([[3, 5, 2, 4],\n",
    "              [7, 6, 8, 8],\n",
    "              [1, 6, 7, 7]])\n",
    "\n",
    "X[0,0]           # 3\n",
    "X[-1,-1]         # 7\n",
    "X[0:1,-1]        # array([4])\n",
    "X[0:2,-1]        # array([4, 8])\n",
    "X[0:2,0:2]       # array([[3, 5], [7, 6]])\n",
    "X[1,1:3]         # array([6, 8])\n",
    "X[1,:]           # array([7, 6, 8, 8])\n",
    "X[:,:]           # Весь исходный массив\n",
    "X[:]             # Весь исходный массив\n",
    "X[::2,::2]       # array([[3, 2], [1, 7]])\n",
    "X[0:3:2,0:3:2]   # array([[3, 2], [1, 7]])\n",
    "X[::-1,::-1]     # Массив, перевернутый по обеим осям"
   ]
  },
  {
   "cell_type": "markdown",
   "metadata": {},
   "source": [
    "**5**. Дан двумерный массив grid, в чем различее между операциями?\n",
    "\n",
    "\n",
    "``` python\n",
    "grid = np.arange(16).reshape((4, 4))\n",
    "```\n",
    "\n",
    "``` python\n",
    "np.split(grid, [2])  \n",
    "np.split(grid, [2], axis=1) \n",
    "```\n"
   ]
  },
  {
   "cell_type": "code",
   "execution_count": 20,
   "metadata": {},
   "outputs": [
    {
     "name": "stdout",
     "output_type": "stream",
     "text": [
      "Исходный массив:\n",
      "[[ 0  1  2  3]\n",
      " [ 4  5  6  7]\n",
      " [ 8  9 10 11]\n",
      " [12 13 14 15]]\n",
      "\n",
      "1. np.split(grid, [2]) - разделение по строкам:\n",
      "Первая часть (строки 0-1):\n",
      "[[0 1 2 3]\n",
      " [4 5 6 7]]\n",
      "Вторая часть (строки 2-3):\n",
      "[[ 8  9 10 11]\n",
      " [12 13 14 15]]\n",
      "\n",
      "2. np.split(grid, [2], axis=1) - разделение по столбцам:\n",
      "Первая часть (столбцы 0-1):\n",
      "[[ 0  1]\n",
      " [ 4  5]\n",
      " [ 8  9]\n",
      " [12 13]]\n",
      "Вторая часть (столбцы 2-3):\n",
      "[[ 2  3]\n",
      " [ 6  7]\n",
      " [10 11]\n",
      " [14 15]]\n"
     ]
    }
   ],
   "source": [
    "import numpy as np\n",
    "\n",
    "grid = np.arange(16).reshape((4, 4))\n",
    "print(\"Исходный массив:\")\n",
    "print(grid)\n",
    "print()\n",
    "\n",
    "# Разделение по строкам (ось 0)\n",
    "result1 = np.split(grid, [2])\n",
    "print(\"1. np.split(grid, [2]) - разделение по строкам:\")\n",
    "print(\"Первая часть (строки 0-1):\")\n",
    "print(result1[0])\n",
    "print(\"Вторая часть (строки 2-3):\")\n",
    "print(result1[1])\n",
    "print()\n",
    "\n",
    "# Разделение по столбцам (ось 1)\n",
    "result2 = np.split(grid, [2], axis=1)\n",
    "print(\"2. np.split(grid, [2], axis=1) - разделение по столбцам:\")\n",
    "print(\"Первая часть (столбцы 0-1):\")\n",
    "print(result2[0])\n",
    "print(\"Вторая часть (столбцы 2-3):\")\n",
    "print(result2[1])"
   ]
  },
  {
   "cell_type": "markdown",
   "metadata": {},
   "source": [
    "**6**. В чем различие между операциями?\n",
    "\n",
    "``` python\n",
    "    [1, 2, 3] + [3, 2, 1]   \n",
    "    np.array([1, 2, 3]) + np.array([3, 2, 1])  \n",
    "```"
   ]
  },
  {
   "cell_type": "code",
   "execution_count": 21,
   "metadata": {},
   "outputs": [
    {
     "data": {
      "text/plain": [
       "[1, 2, 3, 3, 2, 1]"
      ]
     },
     "execution_count": 21,
     "metadata": {},
     "output_type": "execute_result"
    }
   ],
   "source": [
    "[1, 2, 3] + [3, 2, 1]  # Конкатенация: [1, 2, 3, 3, 2, 1]"
   ]
  },
  {
   "cell_type": "code",
   "execution_count": 22,
   "metadata": {},
   "outputs": [
    {
     "data": {
      "text/plain": [
       "array([4, 4, 4])"
      ]
     },
     "execution_count": 22,
     "metadata": {},
     "output_type": "execute_result"
    }
   ],
   "source": [
    "np.array([1, 2, 3]) + np.array([3, 2, 1])  # Поэлементное сложение: [4, 4, 4]"
   ]
  },
  {
   "cell_type": "markdown",
   "metadata": {},
   "source": [
    "**7**. Как в CodeLab измерить время выполнения кода?"
   ]
  },
  {
   "cell_type": "markdown",
   "metadata": {},
   "source": [
    "- **%time** — выполняет выражение один раз и выводит затраченное время."
   ]
  },
  {
   "cell_type": "code",
   "execution_count": 23,
   "metadata": {},
   "outputs": [
    {
     "name": "stdout",
     "output_type": "stream",
     "text": [
      "CPU times: total: 15.6 ms\n",
      "Wall time: 8.5 ms\n"
     ]
    },
    {
     "data": {
      "text/plain": [
       "499999500000"
      ]
     },
     "execution_count": 23,
     "metadata": {},
     "output_type": "execute_result"
    }
   ],
   "source": [
    "%time sum(range(1000000))"
   ]
  },
  {
   "cell_type": "markdown",
   "metadata": {},
   "source": [
    "- **%timeit** — выполняет выражение много раз (подбирает автоматически) и выводит среднее время выполнения. Лучше подходит для точного измерения скорости небольших фрагментов кода."
   ]
  },
  {
   "cell_type": "code",
   "execution_count": 24,
   "metadata": {},
   "outputs": [
    {
     "name": "stdout",
     "output_type": "stream",
     "text": [
      "7.79 ms ± 47.1 μs per loop (mean ± std. dev. of 7 runs, 100 loops each)\n"
     ]
    }
   ],
   "source": [
    "%timeit sum(range(1000000))"
   ]
  },
  {
   "cell_type": "markdown",
   "metadata": {},
   "source": [
    "**8**. Дан массив X, каковы результаты операций?\n",
    "\n",
    "```python\n",
    "X = np.array([[3, 5, 2, 4],\n",
    "      [7, 6, 8, 8],\n",
    "      [1, 6, 7, 7]])\n",
    "\n",
    "np.sum(M)\n",
    "np.sum(M, axis=1)\n",
    "np.sum(M, axis=0)\n",
    "np.sum(M, axis=2)\n",
    "np.sum(M, 1)\n",
    "sum(M)\n",
    "sum(M,1)\n",
    "```"
   ]
  },
  {
   "cell_type": "code",
   "execution_count": 25,
   "metadata": {},
   "outputs": [
    {
     "name": "stdout",
     "output_type": "stream",
     "text": [
      "np.sum(X) -> 64 (сумма всех элементов)\n",
      "np.sum(X, axis=1) -> [14, 29, 21] (суммы по строкам)\n",
      "np.sum(X, axis=0) -> [11, 17, 17, 19] (суммы по столбцам)\n",
      "np.sum(X, axis=2) -> Ошибка (только 2 оси)\n",
      "np.sum(X, 1) -> [14, 29, 21] (то же что axis=1)\n",
      "sum(X) -> [11, 17, 17, 19] (суммы по столбцам)\n",
      "sum(X,1) -> Ошибка (для списков другой синтаксис)\n"
     ]
    }
   ],
   "source": [
    "X = np.array([[3, 5, 2, 4],\n",
    "              [7, 6, 8, 8],\n",
    "              [1, 6, 7, 7]])\n",
    "print(\"np.sum(X) -> 64 (сумма всех элементов)\")\n",
    "print(\"np.sum(X, axis=1) -> [14, 29, 21] (суммы по строкам)\")\n",
    "print(\"np.sum(X, axis=0) -> [11, 17, 17, 19] (суммы по столбцам)\")\n",
    "print(\"np.sum(X, axis=2) -> Ошибка (только 2 оси)\")\n",
    "print(\"np.sum(X, 1) -> [14, 29, 21] (то же что axis=1)\")\n",
    "print(\"sum(X) -> [11, 17, 17, 19] (суммы по столбцам)\")\n",
    "print(\"sum(X,1) -> Ошибка (для списков другой синтаксис)\")"
   ]
  },
  {
   "cell_type": "markdown",
   "metadata": {},
   "source": [
    "**9**. Дан массив X, что будет выведено в консоль?\n",
    "\n",
    "```python\n",
    "X = np.array([1,2,3,4])\n",
    "\n",
    "X > 3\n",
    "X < 3\n",
    "X[X < 3]\n",
    "X[X > 3]\n",
    "X[X != 3]\n",
    "```"
   ]
  },
  {
   "cell_type": "code",
   "execution_count": 26,
   "metadata": {},
   "outputs": [
    {
     "data": {
      "text/plain": [
       "array([1, 2, 4])"
      ]
     },
     "execution_count": 26,
     "metadata": {},
     "output_type": "execute_result"
    }
   ],
   "source": [
    "X = np.array([1,2,3,4])\n",
    "\n",
    "X > 3           # array([False, False, False,  True])\n",
    "X < 3           # array([ True,  True, False, False])\n",
    "X[X < 3]        # array([1, 2])\n",
    "X[X > 3]        # array([4])\n",
    "X[X != 3]       # array([1, 2, 4])"
   ]
  },
  {
   "cell_type": "markdown",
   "metadata": {},
   "source": [
    "**10**.  В чем преимущество массивов NumPy по сравнению с обычными списками.  Чем обусловлено это преимущество?\n",
    "\n",
    "- **Быстродействие** - операции выполняются в 10-100 раз быстрее\n",
    "- **Векторизация** - операции над массивами без явных циклов  \n",
    "- **Эффективное использование памяти** - меньше накладных расходов\n",
    "- **Большой набор математических функций** - линейная алгебра, статистика, Фурье-анализ\n",
    "- **Интеграция с научными библиотеками** - SciPy, Pandas, Matplotlib\n",
    "- **Многомерные массивы** - удобная работа с матрицами и тензорами\n",
    "- **Удобный синтаксис** - лаконичные операции с массивами\n",
    "- **Трансляция (broadcasting)** - автоматическое расширение массивов\n",
    "\n",
    "**Обусловлено:**\n",
    "\n",
    "- **Хранение в непрерывных блоках памяти** - лучше использование кэша процессора\n",
    "- **Использование оптимизированных низкоуровневых библиотек** (BLAS, LAPACK)\n",
    "- **Отсутствие проверки типов во время выполнения** - типы известны заранее\n",
    "- **Эффективные алгоритмы** - написанные на C/Fortran\n",
    "- **Векторизация процессора** - использование SIMD инструкций\n",
    "- **Гомогенность данных** - все элементы одного типа\n",
    "- **Статическая типизация** - типы фиксированы при создании массива"
   ]
  }
 ],
 "metadata": {
  "colab": {
   "authorship_tag": "ABX9TyO7ff5xT3noPkbkgeX+OXvv",
   "provenance": []
  },
  "kernelspec": {
   "display_name": ".venv",
   "language": "python",
   "name": "python3"
  },
  "language_info": {
   "codemirror_mode": {
    "name": "ipython",
    "version": 3
   },
   "file_extension": ".py",
   "mimetype": "text/x-python",
   "name": "python",
   "nbconvert_exporter": "python",
   "pygments_lexer": "ipython3",
   "version": "3.12.10"
  }
 },
 "nbformat": 4,
 "nbformat_minor": 0
}
